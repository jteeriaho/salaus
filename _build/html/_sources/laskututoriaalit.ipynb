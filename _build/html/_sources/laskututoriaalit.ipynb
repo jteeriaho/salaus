{
 "cells": [
  {
   "cell_type": "markdown",
   "id": "b58263ec",
   "metadata": {},
   "source": [
    "# Laskututoriaalit\n",
    "\n",
    "Etätehtävien lopussa on 14 laskutehtävää, joista ensimmäiset liittyvät klassisiin salauksiin, ja loput julkisen avaimen salausmenetelmiin. Alla on laskuja helpottamaan videotutoriaali ja Excel tiedosto.     \n",
    " \n",
    " \n",
    "\n",
    "## Klassisiin salauksiin liittyvä Excel- tiedosto\n",
    "\n",
    "<a href=\"klassiset.xlsx\">Excel pohja klassisiin salauksiin</a>\n",
    "\n",
    "\n",
    "##  Videotutoriaali 1 / klassiset salaukset\n",
    "<video width=\"600\" height=\"450\" controls=\"True\">\n",
    "    <source src=\"klassisetvideo.mp4\" type=\"video/mp4\">\n",
    "</video>"
   ]
  },
  {
   "cell_type": "markdown",
   "id": "fd9ecb85",
   "metadata": {},
   "source": [
    "##  Videotutoriaali 2 / julkisen avaimen menetelmät\n",
    "<video width=\"600\" height=\"450\" controls=\"True\">\n",
    "    <source src=\"laskututoriaali.mp4\" type=\"video/mp4\">\n",
    "</video>"
   ]
  },
  {
   "cell_type": "markdown",
   "id": "f41a6a4b",
   "metadata": {},
   "source": [
    "##  Videotutoriaali 3 / Elliptisten käyrien avaimesta sopiminen\n",
    "<video width=\"600\" height=\"450\" controls=\"True\">\n",
    "    <source src=\"ecc.mp4\" type=\"video/mp4\">\n",
    "</video>"
   ]
  }
 ],
 "metadata": {
  "jupytext": {
   "cell_metadata_filter": "-all",
   "formats": "md:myst",
   "text_representation": {
    "extension": ".md",
    "format_name": "myst",
    "format_version": 0.13,
    "jupytext_version": "1.11.5"
   }
  },
  "kernelspec": {
   "display_name": "Python 3 (ipykernel)",
   "language": "python",
   "name": "python3"
  },
  "language_info": {
   "codemirror_mode": {
    "name": "ipython",
    "version": 3
   },
   "file_extension": ".py",
   "mimetype": "text/x-python",
   "name": "python",
   "nbconvert_exporter": "python",
   "pygments_lexer": "ipython3",
   "version": "3.9.7"
  },
  "source_map": [
   14,
   32,
   39
  ]
 },
 "nbformat": 4,
 "nbformat_minor": 5
}